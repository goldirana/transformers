{
 "cells": [
  {
   "cell_type": "code",
   "execution_count": 57,
   "metadata": {},
   "outputs": [],
   "source": [
    "import torch as th\n",
    "from torch.utils.data import Dataset\n",
    "import numpy as np\n",
    "from torchvision import datasets\n",
    "from sklearn.metrics import accuracy_score"
   ]
  },
  {
   "cell_type": "code",
   "execution_count": 2,
   "metadata": {},
   "outputs": [],
   "source": [
    "import os\n",
    "os.chdir(\"../\")"
   ]
  },
  {
   "cell_type": "code",
   "execution_count": 83,
   "metadata": {},
   "outputs": [],
   "source": [
    "training_data = datasets.FashionMNIST(root=\"fashion\", \n",
    "                                     train=True, \n",
    "                                     download=True)"
   ]
  },
  {
   "cell_type": "code",
   "execution_count": 84,
   "metadata": {},
   "outputs": [
    {
     "name": "stderr",
     "output_type": "stream",
     "text": [
      "/home/tess/miniconda3/envs/genai/lib/python3.9/site-packages/torchvision/datasets/mnist.py:75: UserWarning: train_data has been renamed data\n",
      "  warnings.warn(\"train_data has been renamed data\")\n",
      "/home/tess/miniconda3/envs/genai/lib/python3.9/site-packages/torchvision/datasets/mnist.py:65: UserWarning: train_labels has been renamed targets\n",
      "  warnings.warn(\"train_labels has been renamed targets\")\n",
      "/home/tess/miniconda3/envs/genai/lib/python3.9/site-packages/torchvision/datasets/mnist.py:80: UserWarning: test_data has been renamed data\n",
      "  warnings.warn(\"test_data has been renamed data\")\n",
      "/home/tess/miniconda3/envs/genai/lib/python3.9/site-packages/torchvision/datasets/mnist.py:70: UserWarning: test_labels has been renamed targets\n",
      "  warnings.warn(\"test_labels has been renamed targets\")\n"
     ]
    }
   ],
   "source": [
    "device = \"cuda\" if th.cuda.is_available() else th.device(\"cpu\")\n",
    "train_data = training_data.train_data.to(device) / 255\n",
    "train_labels = training_data.train_labels.to(device) \n",
    "test_data = training_data.test_data.to(device) /255\n",
    "test_labels = training_data.test_labels.to(device)"
   ]
  },
  {
   "cell_type": "code",
   "execution_count": 87,
   "metadata": {},
   "outputs": [
    {
     "name": "stdout",
     "output_type": "stream",
     "text": [
      "simple_model(\n",
      "  (flatten): Flatten(start_dim=1, end_dim=-1)\n",
      "  (linear): Linear(in_features=784, out_features=400, bias=True)\n",
      "  (relu): ReLU()\n",
      "  (linear2): Linear(in_features=400, out_features=132, bias=True)\n",
      "  (linear3): Linear(in_features=132, out_features=100, bias=True)\n",
      "  (linear5): Linear(in_features=100, out_features=64, bias=True)\n",
      "  (linear4): Linear(in_features=64, out_features=10, bias=True)\n",
      ")\n"
     ]
    }
   ],
   "source": [
    "from torch import nn \n",
    "class simple_model(nn.Module):\n",
    "    def __init__(self):\n",
    "        super().__init__()\n",
    "        self.flatten = nn.Flatten()\n",
    "        self.linear = nn.Linear(784, 400)\n",
    "        self.relu = nn.ReLU()\n",
    "        self.linear2 = nn.Linear(400, 132)\n",
    "        self.linear3 = nn.Linear(132, 100)\n",
    "        self.linear5 = nn.Linear(100, 64)\n",
    "        self.linear4 = nn.Linear(64, 10)\n",
    "        \n",
    "    def forward(self, x):\n",
    "        x = self.flatten(x)\n",
    "        x = self.linear(x)\n",
    "        x = self.relu(x)\n",
    "        x = self.linear2(x)\n",
    "        x = self.relu(x)\n",
    "        x = self.linear3(x)\n",
    "        x = self.relu(x)\n",
    "        x = self.linear5(x)\n",
    "        x = self.linear4(x)\n",
    "        \n",
    "        # x = self.softmax(x)\n",
    "        return x\n",
    "    \n",
    "model = simple_model().to(\"cuda\")\n",
    "print(model)\n",
    "\n",
    "# setting optimizer\n",
    "from torch.optim import Adam\n",
    "from torch.nn import  CrossEntropyLoss\n",
    "optimizer = Adam(model.parameters(), lr=0.01)\n",
    "criterion = CrossEntropyLoss()\n",
    "\n"
   ]
  },
  {
   "cell_type": "code",
   "execution_count": 88,
   "metadata": {},
   "outputs": [
    {
     "data": {
      "text/plain": [
       "Dataset FashionMNIST\n",
       "    Number of datapoints: 60000\n",
       "    Root location: fashion\n",
       "    Split: Train"
      ]
     },
     "execution_count": 88,
     "metadata": {},
     "output_type": "execute_result"
    }
   ],
   "source": [
    "training_data"
   ]
  },
  {
   "cell_type": "code",
   "execution_count": 89,
   "metadata": {},
   "outputs": [],
   "source": [
    "train_data = train_data.to(th.float32)"
   ]
  },
  {
   "cell_type": "code",
   "execution_count": 90,
   "metadata": {},
   "outputs": [
    {
     "name": "stdout",
     "output_type": "stream",
     "text": [
      "Epoch 0 loss: 2.3032169342041016 | Accuracy score: 0.1\n",
      "Epoch 1 loss: 2.201084613800049 | Accuracy score: 0.19586666666666666\n",
      "Epoch 2 loss: 2.6572911739349365 | Accuracy score: 0.15938333333333332\n",
      "Epoch 3 loss: 2.6153199672698975 | Accuracy score: 0.21595\n",
      "Epoch 4 loss: 3.189737558364868 | Accuracy score: 0.11761666666666666\n",
      "Epoch 5 loss: 1.8412907123565674 | Accuracy score: 0.42646666666666666\n",
      "Epoch 6 loss: 1.8509950637817383 | Accuracy score: 0.40785\n",
      "Epoch 7 loss: 1.8122835159301758 | Accuracy score: 0.3268\n",
      "Epoch 8 loss: 1.7084499597549438 | Accuracy score: 0.34826666666666667\n",
      "Epoch 9 loss: 1.5862866640090942 | Accuracy score: 0.38348333333333334\n",
      "Epoch 10 loss: 1.4616990089416504 | Accuracy score: 0.48375\n",
      "Epoch 11 loss: 1.3689825534820557 | Accuracy score: 0.43685\n",
      "Epoch 12 loss: 1.2386176586151123 | Accuracy score: 0.48415\n",
      "Epoch 13 loss: 1.1702097654342651 | Accuracy score: 0.51425\n",
      "Epoch 14 loss: 1.0947400331497192 | Accuracy score: 0.5782333333333334\n",
      "Epoch 15 loss: 1.0062153339385986 | Accuracy score: 0.62315\n",
      "Epoch 16 loss: 0.9602426886558533 | Accuracy score: 0.6082333333333333\n",
      "Epoch 17 loss: 0.8959312438964844 | Accuracy score: 0.6356\n",
      "Epoch 18 loss: 0.911800742149353 | Accuracy score: 0.6274666666666666\n",
      "Epoch 19 loss: 0.9114928841590881 | Accuracy score: 0.6310833333333333\n",
      "Epoch 20 loss: 0.8781059384346008 | Accuracy score: 0.6481166666666667\n",
      "Epoch 21 loss: 1.0894407033920288 | Accuracy score: 0.6097166666666667\n",
      "Epoch 22 loss: 0.9509663581848145 | Accuracy score: 0.6637833333333333\n",
      "Epoch 23 loss: 0.8205230236053467 | Accuracy score: 0.6555666666666666\n",
      "Epoch 24 loss: 0.9619629383087158 | Accuracy score: 0.6055666666666667\n",
      "Epoch 25 loss: 0.753827691078186 | Accuracy score: 0.7077\n",
      "Epoch 26 loss: 0.7557922005653381 | Accuracy score: 0.7074333333333334\n",
      "Epoch 27 loss: 0.7911176681518555 | Accuracy score: 0.6924\n",
      "Epoch 28 loss: 0.7789739370346069 | Accuracy score: 0.68365\n",
      "Epoch 29 loss: 0.7148770689964294 | Accuracy score: 0.7255333333333334\n",
      "Epoch 30 loss: 0.7074254751205444 | Accuracy score: 0.75365\n",
      "Epoch 31 loss: 0.7277387976646423 | Accuracy score: 0.73065\n",
      "Epoch 32 loss: 0.6931246519088745 | Accuracy score: 0.7431833333333333\n",
      "Epoch 33 loss: 0.6643800139427185 | Accuracy score: 0.7515166666666667\n",
      "Epoch 34 loss: 0.6569468975067139 | Accuracy score: 0.7654833333333333\n",
      "Epoch 35 loss: 0.6474915146827698 | Accuracy score: 0.7606833333333334\n",
      "Epoch 36 loss: 0.6320559978485107 | Accuracy score: 0.75555\n",
      "Epoch 37 loss: 0.6125109195709229 | Accuracy score: 0.7656\n",
      "Epoch 38 loss: 0.59414142370224 | Accuracy score: 0.7739333333333334\n",
      "Epoch 39 loss: 0.5964452028274536 | Accuracy score: 0.7761333333333333\n",
      "Epoch 40 loss: 0.5746341347694397 | Accuracy score: 0.7858\n",
      "Epoch 41 loss: 0.5663051605224609 | Accuracy score: 0.7896333333333333\n",
      "Epoch 42 loss: 0.5563293695449829 | Accuracy score: 0.7887166666666666\n",
      "Epoch 43 loss: 0.5515155792236328 | Accuracy score: 0.7935666666666666\n",
      "Epoch 44 loss: 0.5405556559562683 | Accuracy score: 0.8024333333333333\n",
      "Epoch 45 loss: 0.5313603281974792 | Accuracy score: 0.8021666666666667\n",
      "Epoch 46 loss: 0.5251709222793579 | Accuracy score: 0.7993166666666667\n",
      "Epoch 47 loss: 0.516031801700592 | Accuracy score: 0.8069166666666666\n",
      "Epoch 48 loss: 0.5101041793823242 | Accuracy score: 0.8139833333333333\n",
      "Epoch 49 loss: 0.5036937594413757 | Accuracy score: 0.8152166666666667\n"
     ]
    }
   ],
   "source": [
    "for epoch in range(50):\n",
    "    output = model(train_data)\n",
    "    loss = criterion(output, train_labels)\n",
    "    optimizer.zero_grad()\n",
    "    loss.backward()\n",
    "    optimizer.step()\n",
    "    label = th.argmax(output, dim=1)\n",
    "    print(f\"Epoch {epoch} loss: {loss} | Accuracy score: {accuracy_score(label.cpu().numpy(), train_labels.cpu().numpy())}\")\n",
    "    "
   ]
  },
  {
   "cell_type": "code",
   "execution_count": 82,
   "metadata": {},
   "outputs": [
    {
     "data": {
      "text/plain": [
       "torch.Size([60000, 10])"
      ]
     },
     "execution_count": 82,
     "metadata": {},
     "output_type": "execute_result"
    }
   ],
   "source": [
    "output.shape"
   ]
  },
  {
   "cell_type": "code",
   "execution_count": 50,
   "metadata": {},
   "outputs": [
    {
     "data": {
      "text/plain": [
       "tensor(35.7020, device='cuda:0', grad_fn=<NllLossBackward0>)"
      ]
     },
     "execution_count": 50,
     "metadata": {},
     "output_type": "execute_result"
    }
   ],
   "source": [
    "loss"
   ]
  },
  {
   "cell_type": "code",
   "execution_count": 8,
   "metadata": {},
   "outputs": [
    {
     "data": {
      "text/plain": [
       "tensor([0.0117, 0.0317, 0.0861, 0.2341, 0.6364])"
      ]
     },
     "execution_count": 8,
     "metadata": {},
     "output_type": "execute_result"
    }
   ],
   "source": [
    "x = th.tensor([1, 2, 3,4, 5], dtype=th.float32)\n",
    "th.softmax(x, dim=-1)\n"
   ]
  },
  {
   "cell_type": "code",
   "execution_count": 16,
   "metadata": {},
   "outputs": [
    {
     "name": "stdout",
     "output_type": "stream",
     "text": [
      "[0.01165623 0.03168492 0.08612854 0.23412166 0.63640865]\n"
     ]
    },
    {
     "data": {
      "text/plain": [
       "1.0"
      ]
     },
     "execution_count": 16,
     "metadata": {},
     "output_type": "execute_result"
    }
   ],
   "source": [
    "def softmax(array):\n",
    "    return np.exp(array)/ np.sum(np.exp(array))\n",
    "from sklearn.metrics import accuracy_score\n",
    "proba = softmax([1, 2, 3, 4, 5])\n",
    "print(proba)\n",
    "accuracy_score([4], [np.argmax(proba)])"
   ]
  },
  {
   "cell_type": "code",
   "execution_count": null,
   "metadata": {},
   "outputs": [],
   "source": []
  }
 ],
 "metadata": {
  "kernelspec": {
   "display_name": "genai",
   "language": "python",
   "name": "python3"
  },
  "language_info": {
   "codemirror_mode": {
    "name": "ipython",
    "version": 3
   },
   "file_extension": ".py",
   "mimetype": "text/x-python",
   "name": "python",
   "nbconvert_exporter": "python",
   "pygments_lexer": "ipython3",
   "version": "3.9.21"
  }
 },
 "nbformat": 4,
 "nbformat_minor": 2
}
