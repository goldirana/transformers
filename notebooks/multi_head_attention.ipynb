{
 "cells": [
  {
   "cell_type": "code",
   "execution_count": 2,
   "metadata": {},
   "outputs": [],
   "source": [
    "import torch as th\n",
    "from torch import nn"
   ]
  },
  {
   "cell_type": "code",
   "execution_count": 28,
   "metadata": {},
   "outputs": [],
   "source": [
    "class multihead_attention(nn.Module):\n",
    "    def __init__(self, contenxt_length, n_dim, n_heads):\n",
    "        super().__init__()\n",
    "        self.n_heads = n_heads\n",
    "        self.n_dim = n_dim\n",
    "        self.head_dim = n_dim//self.n_heads\n",
    "        self.q = nn.Linear(n_dim, n_dim)\n",
    "        self.k = nn.Linear(n_dim, n_dim)\n",
    "        self.v = nn.Linear(n_dim, n_dim)\n",
    "        self.register_buffer(\"mask\", th.triu(th.ones(contenxt_length, contenxt_length), \n",
    "                                             diagonal=1))\n",
    "        \n",
    "    def forward(self, x):\n",
    "        b, num_tokens, embeddings = x.shape\n",
    "        query = self.q(x) # (batch, tokens, embeddings)\n",
    "        keys = self.k(x)\n",
    "        values = self.v(x)\n",
    "        \n",
    "        # split the query, key and value in heads\n",
    "        query = query.view(b, num_tokens, self.n_heads, self.head_dim)\n",
    "        keys = keys.view(b, num_tokens, self.n_heads, self.head_dim)\n",
    "        values = values.view(b, num_tokens, self.n_heads, self.head_dim)\n",
    "        \n",
    "        # reshape q, k, v to bring heads forward\n",
    "        query = query.transpose(1, 2)\n",
    "        keys = keys.transpose(1, 2)\n",
    "        values = values.transpose(1, 2)\n",
    "        \n",
    "        # now perform the matmul operantion to caluate the attention score for each heads\n",
    "        attention_score = query @ keys.transpose(2, 3)\n",
    "        \n",
    "        # orignal mak\n",
    "        mask_bool = self.mask.bool()[:num_tokens, :num_tokens]\n",
    "        attention_score.masked_fill_(mask_bool, -th.inf)\n",
    "        \n",
    "        attention_weight = th.softmax((attention_score)/keys.shape[-1]**0.5, dim = -1)\n",
    "        attention_weight = nn.Dropout(0.5)(attention_weight)\n",
    "        \n",
    "        # calculate the context vector\n",
    "        context_vector = (attention_weight @ values).transpose(1, 2) # b, num_tokens, heads, head_dim\n",
    "        \n",
    "        # combine heads\n",
    "        context_vector = context_vector.contiguous().view(b, num_tokens, self.n_dim)\n",
    "        return context_vector\n",
    "         \n",
    "        \n",
    "        "
   ]
  },
  {
   "cell_type": "code",
   "execution_count": 30,
   "metadata": {},
   "outputs": [],
   "source": [
    "model = multihead_attention(7, 36, 3)"
   ]
  },
  {
   "cell_type": "code",
   "execution_count": 31,
   "metadata": {},
   "outputs": [],
   "source": [
    "dummy = th.rand(size = (2, 7, 36))"
   ]
  },
  {
   "cell_type": "code",
   "execution_count": 32,
   "metadata": {},
   "outputs": [
    {
     "data": {
      "text/plain": [
       "torch.Size([2, 7, 36])"
      ]
     },
     "execution_count": 32,
     "metadata": {},
     "output_type": "execute_result"
    }
   ],
   "source": [
    "model(dummy).shape"
   ]
  },
  {
   "cell_type": "code",
   "execution_count": null,
   "metadata": {},
   "outputs": [],
   "source": []
  }
 ],
 "metadata": {
  "kernelspec": {
   "display_name": "genai",
   "language": "python",
   "name": "python3"
  },
  "language_info": {
   "codemirror_mode": {
    "name": "ipython",
    "version": 3
   },
   "file_extension": ".py",
   "mimetype": "text/x-python",
   "name": "python",
   "nbconvert_exporter": "python",
   "pygments_lexer": "ipython3",
   "version": "3.9.21"
  }
 },
 "nbformat": 4,
 "nbformat_minor": 2
}
