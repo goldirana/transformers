{
 "cells": [
  {
   "cell_type": "code",
   "execution_count": 1,
   "metadata": {},
   "outputs": [],
   "source": [
    "import torch as th\n",
    "from torch import nn\n",
    "from typing import *\n"
   ]
  },
  {
   "cell_type": "code",
   "execution_count": 2,
   "metadata": {},
   "outputs": [],
   "source": [
    "data = [\"The cat is sleeping on the mat\", \"She loves to read books in the evening\", \"The sun rises in the east and sets in the west\", \n",
    "        \"He bought a new car last week\", \"They are going to the park to play soccer\",\n",
    "        \"The teacher explained the lesson clearly\", \"I enjoy drinking coffee in the morning\",\n",
    "        \"The children laughed at the funny joke\", \"We visited the museum during our vacation\", \n",
    "        \"The dog barked loudly at the stranger\"\n",
    "]"
   ]
  },
  {
   "cell_type": "markdown",
   "metadata": {},
   "source": [
    "Analyse data to identify trends and provide insights.\n",
    "Develop machine learning and NLP models to improve processes.\n",
    "Create visual reports using tools like Power BI or Tableau.\n",
    "Present findings to stakeholders in a clear and actionable way.\n",
    "Collaborate with teams to drive process improvements.\n",
    "Ensure data accuracy and perform regular checks.\n",
    "Work with the digital team to integrate new technologies."
   ]
  },
  {
   "cell_type": "markdown",
   "metadata": {},
   "source": [
    "# Tokenizer"
   ]
  },
  {
   "cell_type": "code",
   "execution_count": 3,
   "metadata": {},
   "outputs": [],
   "source": [
    "class Tokenizer:\n",
    "    def __init__(self):\n",
    "        self.vocab = None # to store the vocab\n",
    "        self.input_ids = None # to store the input ids\n",
    "        \n",
    "    def get_tokenizer(self, data):\n",
    "        vocab = set()\n",
    "        for sentence in data:\n",
    "            for i in sentence.lower().split(\" \"):\n",
    "                vocab.add(i)\n",
    "        self.vocab = vocab\n",
    "        return self.vocab\n",
    "    \n",
    "    def mapper(self, vocab):\n",
    "        tokens = {}\n",
    "        for i, element in enumerate(vocab):\n",
    "            tokens[element] = i\n",
    "        self.input_ids = tokens\n",
    "        return self.input_ids\n",
    "    \n",
    "    def __call__(self, data):\n",
    "        vocab = self.get_tokenizer(data)\n",
    "        tokens = self.mapper(vocab)\n",
    "        return tokens\n",
    "    \n",
    "    def set_max_len(self, x, max_len):\n",
    "        current_len = len(x)\n",
    "        len_diff = max_len - current_len\n",
    "        \n",
    "        if len_diff <=  max_len and (len_diff >0):\n",
    "            for i in range(0, len_diff):\n",
    "                x.append(0)\n",
    "            return x\n",
    "        else:\n",
    "            return x[0:max_len]\n",
    "            \n",
    "    def transform(self, data, tokens, max_len: int):\n",
    "        _ = []\n",
    "        for sentence in data:\n",
    "            x = []\n",
    "            for word in sentence.lower().split(\" \"):\n",
    "                x.append(tokens[word])\n",
    "            _.append(self.set_max_len(x, max_len = max_len))\n",
    "        return th.tensor(_)\n",
    "    \n",
    "    def __len__(self):\n",
    "        assert self.vocab != None, \"Tokenizer not fit\"\n",
    "        return len(self.vocab)\n",
    "    \n"
   ]
  },
  {
   "cell_type": "code",
   "execution_count": 4,
   "metadata": {},
   "outputs": [],
   "source": [
    "tokenizer = Tokenizer()\n",
    "tokens = tokenizer(data)\n",
    "data = tokenizer.transform(data, tokens, 5)\n"
   ]
  },
  {
   "cell_type": "code",
   "execution_count": 5,
   "metadata": {},
   "outputs": [
    {
     "data": {
      "text/plain": [
       "(tensor([[44,  9, 37, 33, 26],\n",
       "         [25, 51, 27, 10, 21],\n",
       "         [44, 12, 32,  3, 44],\n",
       "         [43, 54, 30, 46,  4],\n",
       "         [ 5, 40, 28, 27, 44],\n",
       "         [44, 41,  2, 44, 48],\n",
       "         [35, 29, 23,  6,  3],\n",
       "         [44, 53, 17, 24, 44],\n",
       "         [14, 42, 44,  1, 39],\n",
       "         [44,  8, 15, 34, 24]]),\n",
       " torch.Size([10, 5]))"
      ]
     },
     "execution_count": 5,
     "metadata": {},
     "output_type": "execute_result"
    }
   ],
   "source": [
    "data, data.shape"
   ]
  },
  {
   "cell_type": "markdown",
   "metadata": {},
   "source": [
    "# Embedding layer\n"
   ]
  },
  {
   "cell_type": "code",
   "execution_count": 6,
   "metadata": {},
   "outputs": [],
   "source": [
    "embedding_dim = 50\n",
    "embedding = nn.Embedding(tokenizer.__len__(), 50)"
   ]
  },
  {
   "cell_type": "code",
   "execution_count": 7,
   "metadata": {},
   "outputs": [],
   "source": [
    "input_vector = embedding(data)"
   ]
  },
  {
   "cell_type": "code",
   "execution_count": 19,
   "metadata": {},
   "outputs": [
    {
     "data": {
      "text/plain": [
       "tensor([[[-2.7872e-01, -1.9734e-01, -6.6796e-01,  ...,  1.7722e+00,\n",
       "          -1.2776e+00, -2.0928e+00],\n",
       "         [ 5.6329e-01, -9.0955e-04, -2.6341e-01,  ...,  1.9298e+00,\n",
       "          -5.4771e-01, -5.1380e-01],\n",
       "         [ 5.5558e-01,  2.1966e-01,  7.9069e-01,  ...,  1.2695e+00,\n",
       "          -8.4847e-01,  8.4755e-01],\n",
       "         [-1.7592e-01, -9.6205e-01, -2.4851e-01,  ...,  2.0810e+00,\n",
       "          -3.1560e-01,  1.0702e-01],\n",
       "         [ 8.4500e-01,  5.8486e-01, -1.3399e-02,  ..., -4.4313e-01,\n",
       "           3.5440e-01,  1.6744e+00]],\n",
       "\n",
       "        [[ 1.4432e+00, -4.3977e-01, -3.1460e-01,  ..., -1.0069e+00,\n",
       "           1.2206e+00,  1.5133e-01],\n",
       "         [ 1.1534e-01,  1.1349e+00, -2.3221e+00,  ..., -2.6915e-01,\n",
       "          -5.0084e-01, -1.1791e+00],\n",
       "         [-3.1171e-01, -1.6208e+00, -1.4786e+00,  ...,  4.5408e-02,\n",
       "          -7.1826e-01,  6.5772e-01],\n",
       "         [-1.5563e+00,  3.9637e-01, -4.3910e-01,  ..., -2.9503e-01,\n",
       "          -2.8368e-02, -6.2053e-01],\n",
       "         [-1.5686e+00, -6.1667e-01,  3.4453e-01,  ...,  1.5643e-01,\n",
       "           1.7095e+00, -3.1495e-01]],\n",
       "\n",
       "        [[-2.7872e-01, -1.9734e-01, -6.6796e-01,  ...,  1.7722e+00,\n",
       "          -1.2776e+00, -2.0928e+00],\n",
       "         [ 7.4907e-01, -2.7677e+00,  4.4017e-01,  ...,  2.1706e+00,\n",
       "          -8.7246e-01, -1.9469e+00],\n",
       "         [ 9.1549e-01, -3.1303e-01,  6.2584e-01,  ..., -5.3472e-01,\n",
       "          -1.0339e+00, -2.3047e-01],\n",
       "         [-8.4518e-01, -9.7801e-01,  1.3351e-01,  ..., -8.2158e-01,\n",
       "          -1.0409e+00,  2.3933e-01],\n",
       "         [-2.7872e-01, -1.9734e-01, -6.6796e-01,  ...,  1.7722e+00,\n",
       "          -1.2776e+00, -2.0928e+00]],\n",
       "\n",
       "        ...,\n",
       "\n",
       "        [[-2.7872e-01, -1.9734e-01, -6.6796e-01,  ...,  1.7722e+00,\n",
       "          -1.2776e+00, -2.0928e+00],\n",
       "         [ 8.8808e-02,  6.2916e-01, -3.8116e-01,  ..., -7.6716e-01,\n",
       "           8.9474e-01, -2.2600e-01],\n",
       "         [-2.0324e-02,  1.3288e-01,  3.7559e-01,  ...,  1.8777e-01,\n",
       "           2.0033e+00, -2.1640e-01],\n",
       "         [-4.3516e-01,  2.3728e-01,  3.1373e-01,  ..., -1.7847e+00,\n",
       "          -8.4730e-01, -2.5702e-01],\n",
       "         [-2.7872e-01, -1.9734e-01, -6.6796e-01,  ...,  1.7722e+00,\n",
       "          -1.2776e+00, -2.0928e+00]],\n",
       "\n",
       "        [[-2.8301e-01, -1.1161e+00,  4.2199e-01,  ..., -4.9437e-01,\n",
       "           1.5021e+00, -7.7687e-01],\n",
       "         [-1.1766e+00,  3.9629e-01,  1.1584e+00,  ...,  4.4304e-01,\n",
       "          -3.6778e-01, -6.4500e-01],\n",
       "         [-2.7872e-01, -1.9734e-01, -6.6796e-01,  ...,  1.7722e+00,\n",
       "          -1.2776e+00, -2.0928e+00],\n",
       "         [ 1.9767e+00, -3.7560e-01,  1.5849e+00,  ..., -8.1666e-01,\n",
       "          -1.4780e+00,  8.8905e-02],\n",
       "         [-4.2146e-01, -6.4068e-01, -9.3975e-02,  ...,  1.2394e+00,\n",
       "           1.7007e+00, -7.6507e-01]],\n",
       "\n",
       "        [[-2.7872e-01, -1.9734e-01, -6.6796e-01,  ...,  1.7722e+00,\n",
       "          -1.2776e+00, -2.0928e+00],\n",
       "         [ 1.1453e+00, -1.3394e-01, -9.4203e-01,  ..., -5.9674e-01,\n",
       "           1.3465e-01,  3.0217e+00],\n",
       "         [-5.6882e-01, -1.2403e+00, -1.1193e+00,  ...,  8.7597e-01,\n",
       "           1.8582e+00,  1.3975e+00],\n",
       "         [-4.7956e-01, -6.4662e-02, -2.3873e+00,  ..., -2.9742e-02,\n",
       "           2.0421e+00,  5.0781e-01],\n",
       "         [-4.3516e-01,  2.3728e-01,  3.1373e-01,  ..., -1.7847e+00,\n",
       "          -8.4730e-01, -2.5702e-01]]], grad_fn=<EmbeddingBackward0>)"
      ]
     },
     "execution_count": 19,
     "metadata": {},
     "output_type": "execute_result"
    }
   ],
   "source": [
    "input_vector"
   ]
  },
  {
   "cell_type": "code",
   "execution_count": 9,
   "metadata": {},
   "outputs": [
    {
     "name": "stdout",
     "output_type": "stream",
     "text": [
      "torch.Size([5, 1])\n"
     ]
    }
   ],
   "source": [
    "class PositionalEncoding(nn.Module):\n",
    "    def __init__(self, max_len: int, embedding_dim:int):\n",
    "        super(PositionalEncoding, self).__init__()\n",
    "        self.embedding_dim = embedding_dim\n",
    "        self.max_len = max_len\n",
    "        \n",
    "    def get_embedding(self):\n",
    "        pe = th.zeros(self.max_len, self.embedding_dim)\n",
    "        index = th.arange(0, self.max_len).unsqueeze(1)\n",
    "        print(index.shape)\n",
    "        # for even indices\n",
    "        pe[:, ::2] = th.sin(index)\n",
    "        pe[:, 1::2] = th.cos(index)\n",
    "        return pe\n",
    "    \n",
    "pe = PositionalEncoding(5, 50)\n",
    "positional_embedding = pe.get_embedding()\n",
    "        \n",
    "        "
   ]
  },
  {
   "cell_type": "code",
   "execution_count": 10,
   "metadata": {},
   "outputs": [
    {
     "data": {
      "text/plain": [
       "torch.Size([5, 50])"
      ]
     },
     "execution_count": 10,
     "metadata": {},
     "output_type": "execute_result"
    }
   ],
   "source": [
    "positional_embedding.shape"
   ]
  },
  {
   "cell_type": "code",
   "execution_count": 11,
   "metadata": {},
   "outputs": [],
   "source": [
    "pe = th.zeros(100, 512)\n",
    "embedding_dim = 512\n",
    "index = th.arange(0, 100).unsqueeze(1)\n",
    "den = (th.arange(0, 512, 2)/ th.tensor(10_000**(1/embedding_dim)) + 10e-4)\n",
    "index.shape\n",
    "pe[:, ::2] = th.sin(index/den)\n",
    "pe[:, 1::2] = th.cos(index/den)"
   ]
  },
  {
   "cell_type": "code",
   "execution_count": 22,
   "metadata": {},
   "outputs": [],
   "source": [
    "embeddings = positional_embedding + input_vector"
   ]
  },
  {
   "cell_type": "code",
   "execution_count": 14,
   "metadata": {},
   "outputs": [
    {
     "data": {
      "image/png": "[encoded data removed]",
      "text/plain": [
       "<Figure size 1600x312.5 with 1 Axes>"
      ]
     },
     "metadata": {},
     "output_type": "display_data"
    }
   ],
   "source": [
    "import matplotlib.pyplot as plt\n",
    "plt.matshow(pe)\n",
    "plt.show()"
   ]
  },
  {
   "cell_type": "code",
   "execution_count": 23,
   "metadata": {},
   "outputs": [],
   "source": [
    "class SingleHeadAttention(nn.Module):\n",
    "    def __init__(self, d_model):\n",
    "        super(SingleHeadAttention, self).__init__()\n",
    "        self.d_model = d_model\n",
    "        self.q = nn.Linear(d_model, d_model)\n",
    "        self.k = nn.Linear(d_model, d_model)\n",
    "        self.v = nn.Linear(d_model, d_model)\n",
    "        \n",
    "    def forward(self, x):\n",
    "        query = self.q(x)\n",
    "        keys = self.k(x)\n",
    "        value = self.v(x)\n",
    "        \n",
    "        # Scaled dot-product attention\n",
    "        attention_scores = th.matmul(query, keys.transpose(-2, -1))\n",
    "        attention_scores = attention_scores / th.sqrt(th.tensor(self.d_model, dtype=th.float32))\n",
    "        attention_weights = th.softmax(attention_scores, dim=-1)\n",
    "        attention_output = th.matmul(attention_weights, value)\n",
    "        return attention_output\n",
    "\n",
    "    \n",
    "    \n",
    "class LayerNorm(nn.Module):\n",
    "    def __init__(self, d_model):\n",
    "        super().__init__()\n",
    "        self.d_model = d_model\n",
    "        self.norm = nn.LayerNorm(self.d_model)\n",
    "        \n",
    "    def forward(self, x):\n",
    "        return self.norm(x)\n",
    "    \n",
    "\n",
    "class FeedForward(nn.Module):\n",
    "    def __init__(self, d_model):\n",
    "        super().__init__()\n",
    "        self.f1 = nn.Linear(d_model, d_model)\n",
    "        self.relu = nn.ReLU()\n",
    "        \n",
    "    def forward(self, x):\n",
    "        x = self.f1(x)\n",
    "        x = self.relu(x)\n",
    "        return x   \n",
    "    \n",
    "        \n",
    "\n",
    "class EncoderBlock(nn.Module):\n",
    "    def __init__(self, d_model):\n",
    "        super().__init__()\n",
    "        self.d_model = d_model\n",
    "        self.layer_norm = LayerNorm(d_model)\n",
    "        self.single_head_attention = SingleHeadAttention(self.d_model)\n",
    "        self.feed_forward = FeedForward(self.d_model)\n",
    "        \n",
    "        \n",
    "    def forward(self, x):\n",
    "        input = x\n",
    "        attention_weight  = self.single_head_attention(x)\n",
    "        # print(input.shape, attention_weight.shape)\n",
    "        \n",
    "        # Residual connection\n",
    "        x = input + attention_weight\n",
    "        x = self.layer_norm(x)\n",
    "        \n",
    "        \n",
    "        # Feed forward conneciton\n",
    "        feed_forward = self.feed_forward(x)\n",
    "            #Residual connecction\n",
    "        x = x + feed_forward\n",
    "            # Layer norm\n",
    "        x = self.layer_norm(x)\n",
    "\n",
    "        return x\n",
    "    \n",
    "\n",
    "class EncoderModule(nn.Module):\n",
    "    def __init__(self, n:int, d_model):\n",
    "        super().__init__()\n",
    "        self.n = n\n",
    "        self.blocks = nn.ModuleList(EncoderBlock(d_model = d_model) \n",
    "                                    for i in range(n))\n",
    "        \n",
    "    def forward(self, x):\n",
    "        for block in self.blocks:\n",
    "            x = block(x)\n",
    "        return x"
   ]
  },
  {
   "cell_type": "code",
   "execution_count": 25,
   "metadata": {},
   "outputs": [
    {
     "data": {
      "text/plain": [
       "torch.Size([10, 5, 50])"
      ]
     },
     "execution_count": 25,
     "metadata": {},
     "output_type": "execute_result"
    }
   ],
   "source": [
    "ob = EncoderModule(5, 50)\n",
    "ob(embeddings).shape"
   ]
  },
  {
   "cell_type": "code",
   "execution_count": null,
   "metadata": {},
   "outputs": [],
   "source": []
  },
  {
   "cell_type": "code",
   "execution_count": null,
   "metadata": {},
   "outputs": [],
   "source": []
  }
 ],
 "metadata": {
  "kernelspec": {
   "display_name": "base",
   "language": "python",
   "name": "python3"
  },
  "language_info": {
   "codemirror_mode": {
    "name": "ipython",
    "version": 3
   },
   "file_extension": ".py",
   "mimetype": "text/x-python",
   "name": "python",
   "nbconvert_exporter": "python",
   "pygments_lexer": "ipython3",
   "version": "3.11.5"
  }
 },
 "nbformat": 4,
 "nbformat_minor": 2
}
